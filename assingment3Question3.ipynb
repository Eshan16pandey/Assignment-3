{
 "cells": [
  {
   "cell_type": "code",
   "execution_count": 6,
   "id": "dda2b0a0-e37b-4c28-ae03-9e2d29acc7e8",
   "metadata": {},
   "outputs": [],
   "source": [
    "import pandas as pd\n",
    "from scipy.stats import chi2_contingency\n"
   ]
  },
  {
   "cell_type": "code",
   "execution_count": 7,
   "id": "084293d3-bc63-442c-a658-543b11453e46",
   "metadata": {},
   "outputs": [],
   "source": [
    "observed = [[50, 142, 131, 70],\n",
    "            [550, 351, 480, 350]]"
   ]
  },
  {
   "cell_type": "code",
   "execution_count": 8,
   "id": "c9300f76-a4e9-4190-9e56-2904dcbb7d31",
   "metadata": {},
   "outputs": [],
   "source": [
    "# Perform the Chi-square test\n",
    "chi2_stat, p_val, _, _ = chi2_contingency(observed)"
   ]
  },
  {
   "cell_type": "code",
   "execution_count": 9,
   "id": "cfec1c9b-9adc-42be-a4ed-03b96f7bd152",
   "metadata": {},
   "outputs": [],
   "source": [
    "# Set the significance level\n",
    "alpha = 0.05"
   ]
  },
  {
   "cell_type": "code",
   "execution_count": 10,
   "id": "b0659446-a849-4b4f-aab0-2a1e044ce130",
   "metadata": {},
   "outputs": [
    {
     "name": "stdout",
     "output_type": "stream",
     "text": [
      "Chi-square statistic: 80.27295426602495\n",
      "p-value: 2.682172557281901e-17\n",
      "Reject the null hypothesis: Male-female buyer ratios are not similar across regions.\n"
     ]
    }
   ],
   "source": [
    "# Print the results\n",
    "print(\"Chi-square statistic:\", chi2_stat)\n",
    "print(\"p-value:\", p_val)\n",
    "\n",
    "if p_val < alpha:\n",
    "    print(\"Reject the null hypothesis: Male-female buyer ratios are not similar across regions.\")\n",
    "else:\n",
    "    print(\"Fail to reject the null hypothesis: Male-female buyer ratios are similar across regions.\")"
   ]
  },
  {
   "cell_type": "code",
   "execution_count": null,
   "id": "5fb87e61-c76c-4dec-8dc4-187ed5482df7",
   "metadata": {},
   "outputs": [],
   "source": []
  }
 ],
 "metadata": {
  "kernelspec": {
   "display_name": "Python 3 (ipykernel)",
   "language": "python",
   "name": "python3"
  },
  "language_info": {
   "codemirror_mode": {
    "name": "ipython",
    "version": 3
   },
   "file_extension": ".py",
   "mimetype": "text/x-python",
   "name": "python",
   "nbconvert_exporter": "python",
   "pygments_lexer": "ipython3",
   "version": "3.11.7"
  }
 },
 "nbformat": 4,
 "nbformat_minor": 5
}
